{
 "cells": [
  {
   "cell_type": "code",
   "execution_count": 6,
   "metadata": {},
   "outputs": [],
   "source": [
    "class Account():\n",
    "    def __init__(self,owner,balance = 0):\n",
    "        self.owner = owner\n",
    "        self.balance = balance\n",
    "        \n",
    "    def __str__(self):\n",
    "        return (' CURRENT DETAILS' + '\\n' + '-'*17 + '\\n' +\n",
    "               'Account Owner: ' + self.owner + '\\n' +\n",
    "              'Account Balance: $' + str(self.balance))\n",
    "    \n",
    "    def deposit(self,amount):\n",
    "        self.balance += amount\n",
    "        print('${} successfully deposited'.format(amount) + '\\n'*2 +\n",
    "             ' CURRENT DETAILS' + '\\n' + '-'*17 + '\\n' +\n",
    "             'Account Owner: ' + self.owner + '\\n' +\n",
    "             'Account Balance: $' + str(self.balance))\n",
    "                \n",
    "    def withdraw(self,amount):\n",
    "        if self.balance >= amount:\n",
    "            self.balance -= amount\n",
    "            print('${} successfully withdrawn'.format(amount) + '\\n'*2 +\n",
    "             ' CURRENT DETAILS' + '\\n' + '-'*17  + '\\n' +\n",
    "             'Account Owner: ' + self.owner + '\\n' +\n",
    "             'Account Balance: $' + str(self.balance))\n",
    "        else:\n",
    "            print('Insufficient Balance!' + '\\n'*2 +\n",
    "             ' CURRENT DETAILS' + '\\n' + '-'*17  + '\\n' +\n",
    "             'Account Owner: ' + self.owner + '\\n' +\n",
    "             'Account Balance: $' + str(self.balance))"
   ]
  },
  {
   "cell_type": "code",
   "execution_count": 7,
   "metadata": {},
   "outputs": [],
   "source": [
    "my_account = Account('Akeem', 2000)"
   ]
  },
  {
   "cell_type": "code",
   "execution_count": 8,
   "metadata": {},
   "outputs": [
    {
     "name": "stdout",
     "output_type": "stream",
     "text": [
      "Insufficient Balance!\n",
      "\n",
      " CURRENT DETAILS\n",
      "-----------------\n",
      "Account Owner: Akeem\n",
      "Account Balance: $2000\n"
     ]
    }
   ],
   "source": [
    "my_account.withdraw(5000)"
   ]
  },
  {
   "cell_type": "code",
   "execution_count": 9,
   "metadata": {},
   "outputs": [
    {
     "data": {
      "text/plain": [
       "'Akeem'"
      ]
     },
     "execution_count": 9,
     "metadata": {},
     "output_type": "execute_result"
    }
   ],
   "source": [
    "my_account.owner"
   ]
  },
  {
   "cell_type": "code",
   "execution_count": 10,
   "metadata": {},
   "outputs": [
    {
     "name": "stdout",
     "output_type": "stream",
     "text": [
      "$500 successfully withdrawn\n",
      "\n",
      " CURRENT DETAILS\n",
      "-----------------\n",
      "Account Owner: Akeem\n",
      "Account Balance: $1500\n"
     ]
    }
   ],
   "source": [
    "my_account.withdraw(500)"
   ]
  },
  {
   "cell_type": "code",
   "execution_count": 11,
   "metadata": {},
   "outputs": [
    {
     "name": "stdout",
     "output_type": "stream",
     "text": [
      " CURRENT DETAILS\n",
      "-----------------\n",
      "Account Owner: Akeem\n",
      "Account Balance: $1500\n"
     ]
    }
   ],
   "source": [
    "print(my_account)"
   ]
  },
  {
   "cell_type": "code",
   "execution_count": null,
   "metadata": {},
   "outputs": [],
   "source": []
  }
 ],
 "metadata": {
  "kernelspec": {
   "display_name": "Python 3",
   "language": "python",
   "name": "python3"
  },
  "language_info": {
   "codemirror_mode": {
    "name": "ipython",
    "version": 3
   },
   "file_extension": ".py",
   "mimetype": "text/x-python",
   "name": "python",
   "nbconvert_exporter": "python",
   "pygments_lexer": "ipython3",
   "version": "3.7.4"
  }
 },
 "nbformat": 4,
 "nbformat_minor": 2
}
